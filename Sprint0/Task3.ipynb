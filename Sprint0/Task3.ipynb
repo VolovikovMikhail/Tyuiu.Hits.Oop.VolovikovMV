{
 "cells": [
  {
   "cell_type": "markdown",
   "metadata": {},
   "source": [
    "<h1 style=\"color:DodgerBlue\">Индивидальный проект</h1>"
   ]
  },
  {
   "cell_type": "markdown",
   "metadata": {},
   "source": [
    "<h2 style=\"color:DodgerBlue\">Название проекта: Employee</h2>\n",
    "\n",
    "----\n",
    "\n",
    "### Вариант задания - 3\n"
   ]
  },
  {
   "cell_type": "markdown",
   "metadata": {},
   "source": [
    "<h2 style=\"color:DodgerBlue\">Описание проекта:</h2>\n",
    "\n",
    "----\n",
    "\n",
    "Создать базовый класс Employee в C#, который будет представлять информацию о\n",
    "сотрудниках компании. На основе этого класса разработать 2-3 производных\n",
    "класса, демонстрирующих принципы наследования и полиморфизма. В каждом из\n",
    "классов должны быть реализованы новые атрибуты и методы, а также\n",
    "переопределены некоторые методы базового класса для демонстрации\n",
    "полиморфизма.\n",
    "\n",
    "Требования к базовому классу Employee:\n",
    "\n",
    "• Атрибуты: Имя (Name), Возраст (Age), Зарплата (Salary).\n",
    "\n",
    "• Методы:\n",
    "\n",
    "o GetInfo(): метод для получения информации о сотруднике в виде\n",
    "строки.\n",
    "\n",
    "o Work(): метод для вывода сообщения о выполнении рабочих\n",
    "обязанностей.\n",
    "\n",
    "o TakeVacation(): метод для вывода сообщения о взятии отпуска.\n",
    "\n",
    "Требования к производным классам:\n",
    "\n",
    "1. Менеджер (Manager): Должен содержать дополнительные атрибуты, такие\n",
    "как Количество подчиненных (SubordinatesCount). Метод Work() должен быть\n",
    "переопределен для добавления информации о управлении командой.\n",
    "\n",
    "2. Разработчик (Developer): Должен содержать дополнительные атрибуты,\n",
    "такие как Специализация (Specialization). Метод TakeVacation() должен быть\n",
    "переопределен для добавления информации о необходимости согласования\n",
    "отпуска с проектными сроками.\n",
    "\n",
    "3. Дизайнер (Designer) (если требуется третий класс): Должен содержать\n",
    "дополнительные атрибуты, такие как Стиль дизайна (DesignStyle).\n",
    "Метод Work() должен быть переопределен для добавления информации о\n",
    "работе над дизайн-проектами.\n"
   ]
  },
  {
   "cell_type": "markdown",
   "metadata": {},
   "source": [
    "<h2 style=\"color:DodgerBlue\">Реализация:</h2>\n",
    "\n",
    "----"
   ]
  },
  {
   "cell_type": "code",
   "execution_count": 2,
   "metadata": {
    "dotnet_interactive": {
     "language": "csharp"
    },
    "polyglot_notebook": {
     "kernelName": "csharp"
    }
   },
   "outputs": [],
   "source": [
    "public class Employee\n",
    "{\n",
    "    public string Name { get; set; }\n",
    "    public string Age { get; set; }\n",
    "    public string Salary { get; set; }\n",
    "    public string WStatus { get; set; }\n",
    "    public string VStatus { get; set; }\n",
    "\n",
    "    public Employee(string name, string age, string salary, string wstatus, string vstatus )\n",
    "    {\n",
    "        Name = name;\n",
    "        Age = age;\n",
    "        Salary = salary;\n",
    "        WStatus = wstatus;\n",
    "        VStatus = vstatus;\n",
    "    }\n",
    "\n",
    "    public virtual string GetInfo()\n",
    "    {\n",
    "        return $\"Имя: {Name}, Возраст: {Age}, ЗП: {Salary}\";\n",
    "    }\n",
    "\n",
    "    public virtual string Work()\n",
    "    {\n",
    "        return $\"Статус задач: {WStatus}\";\n",
    "    } \n",
    "\n",
    "    public virtual string TakeVacation()\n",
    "    {\n",
    "        return $\"Статус отпуска: {VStatus}\";\n",
    "    }\n",
    "}\n",
    "\n",
    "public class Manager : Employee\n",
    "{\n",
    "    public string SubordinatesCount { get; set; }\n",
    "    public Manager(string name, string age, string salary, string wstatus, string vstatus, string subordinatesCount) : base(name, age, salary, wstatus, vstatus)\n",
    "    {\n",
    "        SubordinatesCount = subordinatesCount;\n",
    "    }\n",
    "    public override string Work()\n",
    "    {\n",
    "        base.Work();\n",
    "        return $\"Статус: {WStatus}, Количество подчиненных: {SubordinatesCount}\";\n",
    "    }\n",
    "}\n",
    "\n",
    "public class Developer : Employee\n",
    "{\n",
    "    public string Specialization { get; set; }\n",
    "    public Developer(string name, string age, string salary, string wstatus, string vstatus, string specialization) : base(name, age, salary, wstatus, vstatus)\n",
    "    {\n",
    "        Specialization = specialization;\n",
    "    }\n",
    "    public override string TakeVacation()\n",
    "    {\n",
    "        base.TakeVacation();\n",
    "        return $\"{Specialization} {VStatus}\";\n",
    "    }\n",
    "}\n",
    "\n",
    "public class Designer : Employee\n",
    "{\n",
    "    public string DesignStyle { get; set; }\n",
    "    public Designer(string name, string age, string salary, string wstatus, string vstatus, string designstyle) : base(name, age, salary, wstatus, vstatus)\n",
    "    {\n",
    "        DesignStyle = designstyle;\n",
    "    }\n",
    "    public override string Work()\n",
    "    {\n",
    "        base.Work();\n",
    "        return $\"Стиль: {DesignStyle}, Статус: {WStatus}\";\n",
    "    }\n",
    "}"
   ]
  }
 ],
 "metadata": {
  "kernelspec": {
   "display_name": ".NET (C#)",
   "language": "C#",
   "name": ".net-csharp"
  },
  "polyglot_notebook": {
   "kernelInfo": {
    "defaultKernelName": "csharp",
    "items": [
     {
      "aliases": [],
      "languageName": "csharp",
      "name": "csharp"
     }
    ]
   }
  }
 },
 "nbformat": 4,
 "nbformat_minor": 2
}
