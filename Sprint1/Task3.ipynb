{
 "cells": [
  {
   "cell_type": "markdown",
   "metadata": {},
   "source": [
    "<h1 style=\"color:DodgerBlue\">Индивидальный проект</h1>"
   ]
  },
  {
   "cell_type": "markdown",
   "metadata": {},
   "source": [
    "<h2 style=\"color:DodgerBlue\">Название проекта: Employee Extended Edition (EEE)</h2>\n",
    "\n",
    "----\n",
    "\n",
    "### Вариант задания 3\n"
   ]
  },
  {
   "cell_type": "markdown",
   "metadata": {},
   "source": [
    "<h2 style=\"color:DodgerBlue\">Описание проекта:</h2>\n",
    "\n",
    "----\n",
    "\n",
    "[ваш текст]\n",
    "\n",
    "#### Дополнительное задание\n",
    "Добавьте к сущестующим классам конструктора классов с использованием гетторов и сетторов и реализуйте взаимодействие объектов между собой"
   ]
  },
  {
   "cell_type": "markdown",
   "metadata": {},
   "source": [
    "<h2 style=\"color:DodgerBlue\">Реализация:</h2>\n",
    "\n",
    "----"
   ]
  },
  {
   "cell_type": "code",
   "execution_count": 1,
   "metadata": {
    "dotnet_interactive": {
     "language": "csharp"
    },
    "polyglot_notebook": {
     "kernelName": "csharp"
    }
   },
   "outputs": [],
   "source": [
    "public class Employee\n",
    "{\n",
    "    public string Name { get; set; }\n",
    "    public string Age { get; set; }\n",
    "    public string Salary { get; set; }\n",
    "    public string WStatus { get; set; }\n",
    "    public string VStatus { get; set; }\n",
    "\n",
    "    public Employee(string name, string age, string salary, string wstatus, string vstatus )\n",
    "    {\n",
    "        Name = name;\n",
    "        Age = age;\n",
    "        Salary = salary;\n",
    "        WStatus = wstatus;\n",
    "        VStatus = vstatus;\n",
    "    }\n",
    "\n",
    "    public virtual string GetInfo()\n",
    "    {\n",
    "        return $\"Имя: {Name}, Возраст: {Age}, ЗП: {Salary}\";\n",
    "    }\n",
    "\n",
    "    public virtual string Work()\n",
    "    {\n",
    "        return $\"Статус задач: {WStatus}\";\n",
    "    } \n",
    "\n",
    "    public virtual string TakeVacation()\n",
    "    {\n",
    "        return $\"Статус отпуска: {VStatus}\";\n",
    "    }\n",
    "}\n",
    "\n",
    "public class Manager : Employee\n",
    "{\n",
    "    public string SubordinatesCount { get; set; }\n",
    "\n",
    "    public Manager(string name, string age, string salary, string wstatus, string vstatus, string subordinatesCount) : base(name, age, salary, wstatus, vstatus)\n",
    "    {\n",
    "        SubordinatesCount = subordinatesCount;\n",
    "    }\n",
    "\n",
    "    public override string Work()\n",
    "    {\n",
    "        base.Work();\n",
    "        return $\"Статус: {WStatus}, Количество подчиненных: {SubordinatesCount}\";\n",
    "    }\n",
    "}\n",
    "\n",
    "public class Developer : Employee\n",
    "{\n",
    "    public string Specialization { get; set; }\n",
    "\n",
    "    public Developer(string name, string age, string salary, string wstatus, string vstatus, string specialization) : base(name, age, salary, wstatus, vstatus)\n",
    "    {\n",
    "        Specialization = specialization;\n",
    "    }\n",
    "    public override string TakeVacation()\n",
    "    {\n",
    "        base.TakeVacation();\n",
    "        return $\"{Specialization} - {VStatus}\";\n",
    "    }\n",
    "}\n",
    "\n",
    "public class Designer : Employee\n",
    "{\n",
    "    public string DesignStyle { get; set; }\n",
    "    \n",
    "    public Designer(string name, string age, string salary, string wstatus, string vstatus, string designstyle) : base(name, age, salary, wstatus, vstatus)\n",
    "    {\n",
    "        DesignStyle = designstyle;\n",
    "    }\n",
    "\n",
    "    public override string Work()\n",
    "    {\n",
    "        base.Work();\n",
    "        return $\"Стиль: {DesignStyle}, Статус: {WStatus}\";\n",
    "    }\n",
    "}\n",
    "\n",
    "Manager _Manager = new Manager(\"Азимбек\",\"46\",\"16859 руб\", \"63%\", \"В процессе работы\", \"2\");\n",
    "Console.WriteLine(_Manager.GetInfo());\n",
    "Console.WriteLine(_Manager.TakeVacation());\n",
    "Console.WriteLine(_Manager.Work());\n",
    "\n",
    "Developer _Developer = new Developer(\"Всеволод\", \"76\", \"83650 руб\", \"100%\", \"В отпуске\", \"Графический разработчик\");\n",
    "Console.WriteLine(_Developer.GetInfo());\n",
    "Console.WriteLine(_Developer.TakeVacation());\n",
    "\n",
    "Designer _Designer = new Designer(\"Джошуа\",\"27\",\"56235 руб\", \"100%\", \"В отпуске\", \"Барокко\");\n",
    "Console.WriteLine(_Designer.GetInfo());\n",
    "Console.WriteLine(_Designer.TakeVacation());\n",
    "Console.WriteLine(_Designer.Work());"
   ]
  }
 ],
 "metadata": {
  "kernelspec": {
   "display_name": ".NET (C#)",
   "language": "C#",
   "name": ".net-csharp"
  },
  "polyglot_notebook": {
   "kernelInfo": {
    "defaultKernelName": "csharp",
    "items": [
     {
      "aliases": [],
      "languageName": "csharp",
      "name": "csharp"
     }
    ]
   }
  }
 },
 "nbformat": 4,
 "nbformat_minor": 2
}
